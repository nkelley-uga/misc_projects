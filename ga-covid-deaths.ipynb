{
 "cells": [
  {
   "cell_type": "markdown",
   "metadata": {},
   "source": [
    "# A New Death Graph for GA-DPH\n",
    "\n",
    "Dear Georgia DPH, \n",
    "\n",
    "Please feel free to take what you need. \n",
    "\n",
    "P.S. Please stop using pie-charts.\n",
    "\n",
    "### Imports"
   ]
  },
  {
   "cell_type": "code",
   "execution_count": 1,
   "metadata": {},
   "outputs": [],
   "source": [
    "# the usual imports - all you need if you have the data\n",
    "import pandas as pd\n",
    "import numpy as np\n",
    "import matplotlib.pyplot as plt\n",
    "import math\n",
    "# selenium scraping - getting the data from dph.georgia.gov\n",
    "import os\n",
    "from selenium import webdriver"
   ]
  },
  {
   "cell_type": "markdown",
   "metadata": {},
   "source": [
    "---\n",
    "\n",
    "### Scraping"
   ]
  },
  {
   "cell_type": "code",
   "execution_count": 2,
   "metadata": {},
   "outputs": [],
   "source": [
    "# spin up selenium and start on our target page\n",
    "\n",
    "chromedriver = \"/Applications/chromedriver\"\n",
    "os.environ[\"webdriver.chrome.driver\"] = chromedriver\n",
    "\n",
    "url = 'https://dph.georgia.gov/covid-19-daily-status-report'\n",
    "driver = webdriver.Chrome(chromedriver)\n",
    "driver.get(url)"
   ]
  },
  {
   "cell_type": "code",
   "execution_count": 3,
   "metadata": {},
   "outputs": [],
   "source": [
    "# data is hidden beneath an iframe\n",
    "\n",
    "iframe = driver.find_element_by_xpath('//*[@id=\"covid19dashdph\"]/iframe')\n",
    "\n",
    "driver.switch_to.frame(iframe)"
   ]
  },
  {
   "cell_type": "code",
   "execution_count": 4,
   "metadata": {},
   "outputs": [],
   "source": [
    "# go to \"deaths\" table and gather all rows, save in rows\n",
    "\n",
    "table_trs = driver.find_elements_by_xpath('//*[@id=\"deaths\"]/table/tbody/tr')\n",
    "rows = []\n",
    "for tr in table_trs:\n",
    "    td = tr.find_elements_by_xpath(\".//td\")\n",
    "    rows.append([i.text for i in td])\n",
    "    \n",
    "driver.close()"
   ]
  },
  {
   "cell_type": "code",
   "execution_count": 5,
   "metadata": {},
   "outputs": [],
   "source": [
    "# row 0 are headers, 1 to end are data\n",
    "\n",
    "data = pd.DataFrame(data=rows[1:], columns=rows[0])"
   ]
  },
  {
   "cell_type": "markdown",
   "metadata": {},
   "source": [
    "### Post-scrape\n",
    "\n",
    "Start here if you already have the data.\n",
    "\n",
    "If the data is in a csv or excel file then you can read it in with the following (remember to change the path):\n",
    "\n",
    "csv: data = pd.read_csv('path_to_data.csv')\n",
    "\n",
    "excel: data = pd.read_excel('path_to_data.xlsx')"
   ]
  },
  {
   "cell_type": "code",
   "execution_count": 6,
   "metadata": {},
   "outputs": [],
   "source": [
    "# quick workaround: age can be str(age) or \"unk\"\n",
    "\n",
    "age = []\n",
    "for i in data['Age']:\n",
    "    try:\n",
    "        age.append(int(i))\n",
    "    except:\n",
    "        age.append(np.nan)\n",
    "data['Age'] = age"
   ]
  },
  {
   "cell_type": "code",
   "execution_count": 7,
   "metadata": {},
   "outputs": [
    {
     "data": {
      "text/plain": [
       "array([  0,  10,  20,  30,  40,  50,  60,  70,  80,  90, 100, 110])"
      ]
     },
     "execution_count": 7,
     "metadata": {},
     "output_type": "execute_result"
    }
   ],
   "source": [
    "# setup bins based on max age (no manual adjusting in the future)\n",
    "\n",
    "bins = np.arange(0, (math.ceil(max(data['Age'])/10)*10)+11, 10)\n",
    "\n",
    "bins  # bins are 0-9, 10-19, etc."
   ]
  },
  {
   "cell_type": "code",
   "execution_count": 8,
   "metadata": {},
   "outputs": [
    {
     "data": {
      "text/html": [
       "<div>\n",
       "<style scoped>\n",
       "    .dataframe tbody tr th:only-of-type {\n",
       "        vertical-align: middle;\n",
       "    }\n",
       "\n",
       "    .dataframe tbody tr th {\n",
       "        vertical-align: top;\n",
       "    }\n",
       "\n",
       "    .dataframe thead th {\n",
       "        text-align: right;\n",
       "    }\n",
       "</style>\n",
       "<table border=\"1\" class=\"dataframe\">\n",
       "  <thead>\n",
       "    <tr style=\"text-align: right;\">\n",
       "      <th>Underlying</th>\n",
       "      <th>No</th>\n",
       "      <th>Unk</th>\n",
       "      <th>Yes</th>\n",
       "    </tr>\n",
       "  </thead>\n",
       "  <tbody>\n",
       "    <tr>\n",
       "      <td>25.0</td>\n",
       "      <td>2.0</td>\n",
       "      <td>1.0</td>\n",
       "      <td>1.0</td>\n",
       "    </tr>\n",
       "    <tr>\n",
       "      <td>35.0</td>\n",
       "      <td>1.0</td>\n",
       "      <td>3.0</td>\n",
       "      <td>7.0</td>\n",
       "    </tr>\n",
       "    <tr>\n",
       "      <td>45.0</td>\n",
       "      <td>0.0</td>\n",
       "      <td>2.0</td>\n",
       "      <td>17.0</td>\n",
       "    </tr>\n",
       "    <tr>\n",
       "      <td>55.0</td>\n",
       "      <td>3.0</td>\n",
       "      <td>12.0</td>\n",
       "      <td>25.0</td>\n",
       "    </tr>\n",
       "    <tr>\n",
       "      <td>65.0</td>\n",
       "      <td>3.0</td>\n",
       "      <td>32.0</td>\n",
       "      <td>79.0</td>\n",
       "    </tr>\n",
       "    <tr>\n",
       "      <td>75.0</td>\n",
       "      <td>1.0</td>\n",
       "      <td>24.0</td>\n",
       "      <td>91.0</td>\n",
       "    </tr>\n",
       "    <tr>\n",
       "      <td>85.0</td>\n",
       "      <td>4.0</td>\n",
       "      <td>40.0</td>\n",
       "      <td>72.0</td>\n",
       "    </tr>\n",
       "    <tr>\n",
       "      <td>95.0</td>\n",
       "      <td>1.0</td>\n",
       "      <td>14.0</td>\n",
       "      <td>27.0</td>\n",
       "    </tr>\n",
       "    <tr>\n",
       "      <td>105.0</td>\n",
       "      <td>0.0</td>\n",
       "      <td>1.0</td>\n",
       "      <td>0.0</td>\n",
       "    </tr>\n",
       "  </tbody>\n",
       "</table>\n",
       "</div>"
      ],
      "text/plain": [
       "Underlying   No   Unk   Yes\n",
       "25.0        2.0   1.0   1.0\n",
       "35.0        1.0   3.0   7.0\n",
       "45.0        0.0   2.0  17.0\n",
       "55.0        3.0  12.0  25.0\n",
       "65.0        3.0  32.0  79.0\n",
       "75.0        1.0  24.0  91.0\n",
       "85.0        4.0  40.0  72.0\n",
       "95.0        1.0  14.0  27.0\n",
       "105.0       0.0   1.0   0.0"
      ]
     },
     "execution_count": 8,
     "metadata": {},
     "output_type": "execute_result"
    }
   ],
   "source": [
    "# cut age based on bins\n",
    "\n",
    "data['age_bins'] = pd.cut(data['Age'], bins=bins, right=False)\n",
    "\n",
    "# groupby age + underlying conditions\n",
    "\n",
    "categories = data.groupby(['age_bins', 'Underlying'])['Age'].count().unstack().fillna(0)\n",
    "\n",
    "categories.index = [i.mid for i in categories.index]  # use midpoints for idx\n",
    "\n",
    "categories"
   ]
  },
  {
   "cell_type": "markdown",
   "metadata": {},
   "source": [
    "### Pretty Picture\n",
    "\n",
    "Matplotlib is nice because all of the paramaters can be tweaked manually, and descriptions are straightforward. i.e. color means color, hist means histogram, title means title, etc."
   ]
  },
  {
   "cell_type": "code",
   "execution_count": 9,
   "metadata": {},
   "outputs": [
    {
     "data": {
      "image/png": "[encoded data removed]",
      "text/plain": [
       "<Figure size 864x576 with 1 Axes>"
      ]
     },
     "metadata": {
      "needs_background": "light"
     },
     "output_type": "display_data"
    }
   ],
   "source": [
    "# stacked bar plot with all the bells and whistles\n",
    "\n",
    "plt.figure(figsize=(12, 8))\n",
    "\n",
    "plt.title('COVID-19 Deaths in Georgia',\n",
    "          fontsize=18,\n",
    "          fontweight='bold')\n",
    "plt.xlabel('Age',\n",
    "           fontsize=16)\n",
    "\n",
    "plt.bar(categories.index,\n",
    "        categories['No'],\n",
    "        width=9,\n",
    "        color='b',\n",
    "        label='No')\n",
    "plt.bar(categories.index,\n",
    "        categories['Yes'],\n",
    "        width=9,\n",
    "        color='r',\n",
    "        label='Yes',\n",
    "        bottom=categories['No'].values)\n",
    "plt.bar(categories.index,\n",
    "        categories['Unk'],\n",
    "        width=9,\n",
    "        color='k',\n",
    "        label='Unk',\n",
    "        bottom=categories['No'].values+categories['Yes'].values)\n",
    "\n",
    "plt.xticks(bins)\n",
    "\n",
    "plt.legend(fontsize=14,\n",
    "           loc='upper left',\n",
    "           title='Underlying Conditions',\n",
    "           title_fontsize='14')\n",
    "\n",
    "plt.grid(alpha=0.3,\n",
    "         color='k',\n",
    "         linestyle='--');\n",
    "\n",
    "# plt.savefig('covid-age.png')   # optional save-off"
   ]
  },
  {
   "cell_type": "markdown",
   "metadata": {},
   "source": [
    "### Bonus, scraping FIPS"
   ]
  },
  {
   "cell_type": "code",
   "execution_count": 15,
   "metadata": {},
   "outputs": [],
   "source": [
    "# fips url\n",
    "\n",
    "url = 'https://www.nrcs.usda.gov/wps/portal/nrcs/detail/ga/home/?cid=nrcs143_013697'\n",
    "\n",
    "driver = webdriver.Chrome(chromedriver)\n",
    "\n",
    "driver.get(url)"
   ]
  },
  {
   "cell_type": "code",
   "execution_count": 22,
   "metadata": {},
   "outputs": [],
   "source": [
    "# this is a large table, but good to have if you ever want to build a map viz\n",
    "\n",
    "table_trs = driver.find_elements_by_xpath('//*[@id=\"detail\"]/table/tbody/tr')\n",
    "rows = []\n",
    "for tr in table_trs:\n",
    "    td = tr.find_elements_by_xpath(\".//td\")\n",
    "    rows.append([i.text for i in td])\n",
    "    \n",
    "driver.close()"
   ]
  },
  {
   "cell_type": "code",
   "execution_count": 37,
   "metadata": {},
   "outputs": [],
   "source": [
    "# save this off for later\n",
    "\n",
    "pd.DataFrame(data=rows[1:], columns=['FIPS', 'County', 'State']).to_csv('fips_codes.csv')"
   ]
  },
  {
   "cell_type": "code",
   "execution_count": 37,
   "metadata": {},
   "outputs": [],
   "source": [
    "# filter for GA fips\n",
    "\n",
    "fips = pd.DataFrame(data=[i for i in rows[1:] if i[2] == 'GA'], columns=['FIPS', 'County', 'State'])"
   ]
  },
  {
   "cell_type": "code",
   "execution_count": 32,
   "metadata": {},
   "outputs": [],
   "source": [
    "# merge on deaths data and save\n",
    "\n",
    "merge_data = data.copy()\n",
    "merge_data['County'] = [i.lower() for i in merge_data['County']]\n",
    "fips['County'] = [i.lower() for i in fips['County']]\n",
    "\n",
    "pd.merge(merge_data, fips, how='left', left_on='County', right_on='County').to_csv('covid_GA_deaths.csv')"
   ]
  },
  {
   "cell_type": "code",
   "execution_count": null,
   "metadata": {},
   "outputs": [],
   "source": []
  }
 ],
 "metadata": {
  "kernelspec": {
   "display_name": "Python 3",
   "language": "python",
   "name": "python3"
  },
  "language_info": {
   "codemirror_mode": {
    "name": "ipython",
    "version": 3
   },
   "file_extension": ".py",
   "mimetype": "text/x-python",
   "name": "python",
   "nbconvert_exporter": "python",
   "pygments_lexer": "ipython3",
   "version": "3.7.3"
  }
 },
 "nbformat": 4,
 "nbformat_minor": 4
}
