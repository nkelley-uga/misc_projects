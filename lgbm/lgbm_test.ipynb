{
 "cells": [
  {
   "cell_type": "markdown",
   "metadata": {},
   "source": [
    "# LightGBM Test Run\n",
    "\n",
    "### summary\n",
    "\n",
    "- 'gender' and 'device' are discrete strings -> dummies (keep both M and F to capture nan info)\n",
    "- 'drivers', 'vehicles', 'age', 'launch', and 'tenure' are all discrete numeric -> lgbm can handle\n",
    "- target variable 'outcome' is imbalanced at approximately 1:9 -> use lgbm imbalanced setting\n",
    "- multicolinearity with 'age', 'income', and 'tenure' -> lgbm (trees) is robust to colinearity"
   ]
  },
  {
   "cell_type": "markdown",
   "metadata": {},
   "source": [
    "---\n",
    "\n",
    "# EDA"
   ]
  },
  {
   "cell_type": "code",
   "execution_count": 1,
   "metadata": {},
   "outputs": [],
   "source": [
    "# mac install for lightgbm\n",
    "\n",
    "# !brew install lightgbm"
   ]
  },
  {
   "cell_type": "code",
   "execution_count": 2,
   "metadata": {},
   "outputs": [],
   "source": [
    "import pandas as pd\n",
    "import numpy as np\n",
    "import matplotlib.pyplot as plt\n",
    "\n",
    "from sklearn.ensemble import RandomForestClassifier\n",
    "import lightgbm\n",
    "from sklearn.model_selection import train_test_split, StratifiedKFold\n",
    "from sklearn import metrics\n",
    "\n",
    "pd.set_option('display.max_rows', 50)\n",
    "pd.set_option('display.max_columns', 50)\n",
    "\n",
    "import warnings\n",
    "warnings.filterwarnings('ignore')"
   ]
  },
  {
   "cell_type": "code",
   "execution_count": 3,
   "metadata": {},
   "outputs": [
    {
     "name": "stdout",
     "output_type": "stream",
     "text": [
      "(10000, 10)\n"
     ]
    },
    {
     "data": {
      "text/plain": [
       "['age',\n",
       " 'cost_of_ad',\n",
       " 'device_type',\n",
       " 'gender',\n",
       " 'in_initial_launch_location',\n",
       " 'income',\n",
       " 'n_drivers',\n",
       " 'n_vehicles',\n",
       " 'prior_ins_tenure',\n",
       " 'outcome']"
      ]
     },
     "execution_count": 3,
     "metadata": {},
     "output_type": "execute_result"
    }
   ],
   "source": [
    "data = pd.read_csv('train.csv')\n",
    "print(data.shape)\n",
    "list(data.columns)"
   ]
  },
  {
   "cell_type": "code",
   "execution_count": 4,
   "metadata": {},
   "outputs": [
    {
     "data": {
      "text/html": [
       "<div>\n",
       "<style scoped>\n",
       "    .dataframe tbody tr th:only-of-type {\n",
       "        vertical-align: middle;\n",
       "    }\n",
       "\n",
       "    .dataframe tbody tr th {\n",
       "        vertical-align: top;\n",
       "    }\n",
       "\n",
       "    .dataframe thead th {\n",
       "        text-align: right;\n",
       "    }\n",
       "</style>\n",
       "<table border=\"1\" class=\"dataframe\">\n",
       "  <thead>\n",
       "    <tr style=\"text-align: right;\">\n",
       "      <th></th>\n",
       "      <th>age</th>\n",
       "      <th>cost_of_ad</th>\n",
       "      <th>device_type</th>\n",
       "      <th>gender</th>\n",
       "      <th>in_initial_launch_location</th>\n",
       "      <th>income</th>\n",
       "      <th>n_drivers</th>\n",
       "      <th>n_vehicles</th>\n",
       "      <th>prior_ins_tenure</th>\n",
       "      <th>outcome</th>\n",
       "    </tr>\n",
       "  </thead>\n",
       "  <tbody>\n",
       "    <tr>\n",
       "      <td>0</td>\n",
       "      <td>56</td>\n",
       "      <td>0.005737</td>\n",
       "      <td>iPhone</td>\n",
       "      <td>M</td>\n",
       "      <td>0</td>\n",
       "      <td>62717</td>\n",
       "      <td>2</td>\n",
       "      <td>1</td>\n",
       "      <td>4</td>\n",
       "      <td>0</td>\n",
       "    </tr>\n",
       "    <tr>\n",
       "      <td>1</td>\n",
       "      <td>50</td>\n",
       "      <td>0.004733</td>\n",
       "      <td>desktop</td>\n",
       "      <td>F</td>\n",
       "      <td>0</td>\n",
       "      <td>64328</td>\n",
       "      <td>2</td>\n",
       "      <td>3</td>\n",
       "      <td>2</td>\n",
       "      <td>0</td>\n",
       "    </tr>\n",
       "    <tr>\n",
       "      <td>2</td>\n",
       "      <td>54</td>\n",
       "      <td>0.004129</td>\n",
       "      <td>laptop</td>\n",
       "      <td>M</td>\n",
       "      <td>0</td>\n",
       "      <td>83439</td>\n",
       "      <td>1</td>\n",
       "      <td>3</td>\n",
       "      <td>7</td>\n",
       "      <td>0</td>\n",
       "    </tr>\n",
       "    <tr>\n",
       "      <td>3</td>\n",
       "      <td>16</td>\n",
       "      <td>0.005117</td>\n",
       "      <td>Android</td>\n",
       "      <td>F</td>\n",
       "      <td>0</td>\n",
       "      <td>30110</td>\n",
       "      <td>2</td>\n",
       "      <td>3</td>\n",
       "      <td>0</td>\n",
       "      <td>0</td>\n",
       "    </tr>\n",
       "    <tr>\n",
       "      <td>4</td>\n",
       "      <td>37</td>\n",
       "      <td>0.003635</td>\n",
       "      <td>desktop</td>\n",
       "      <td>M</td>\n",
       "      <td>0</td>\n",
       "      <td>76565</td>\n",
       "      <td>2</td>\n",
       "      <td>1</td>\n",
       "      <td>5</td>\n",
       "      <td>0</td>\n",
       "    </tr>\n",
       "  </tbody>\n",
       "</table>\n",
       "</div>"
      ],
      "text/plain": [
       "   age  cost_of_ad device_type gender  in_initial_launch_location  income  \\\n",
       "0   56    0.005737      iPhone      M                           0   62717   \n",
       "1   50    0.004733     desktop      F                           0   64328   \n",
       "2   54    0.004129      laptop      M                           0   83439   \n",
       "3   16    0.005117     Android      F                           0   30110   \n",
       "4   37    0.003635     desktop      M                           0   76565   \n",
       "\n",
       "   n_drivers  n_vehicles  prior_ins_tenure  outcome  \n",
       "0          2           1                 4        0  \n",
       "1          2           3                 2        0  \n",
       "2          1           3                 7        0  \n",
       "3          2           3                 0        0  \n",
       "4          2           1                 5        0  "
      ]
     },
     "execution_count": 4,
     "metadata": {},
     "output_type": "execute_result"
    }
   ],
   "source": [
    "data.head()"
   ]
  },
  {
   "cell_type": "code",
   "execution_count": 5,
   "metadata": {},
   "outputs": [],
   "source": [
    "def summary(df):\n",
    "    '''exploratory data analysis of a dataframe'''\n",
    "    \n",
    "    import pandas as pd\n",
    "    \n",
    "    summary = {}\n",
    "    summary['count'] = df.count()\n",
    "    summary['dtypes'] = df.dtypes\n",
    "    summary['null_sum'] = df.isnull().sum()\n",
    "    summary['null_pct'] = df.isnull().mean()\n",
    "    summary['mean'] = df.mean()\n",
    "    summary['median'] = df.median()\n",
    "    summary['min'] = df.min()\n",
    "    summary['max'] = df.max()\n",
    "    \n",
    "    return pd.DataFrame(summary)"
   ]
  },
  {
   "cell_type": "code",
   "execution_count": 6,
   "metadata": {},
   "outputs": [
    {
     "data": {
      "text/html": [
       "<div>\n",
       "<style scoped>\n",
       "    .dataframe tbody tr th:only-of-type {\n",
       "        vertical-align: middle;\n",
       "    }\n",
       "\n",
       "    .dataframe tbody tr th {\n",
       "        vertical-align: top;\n",
       "    }\n",
       "\n",
       "    .dataframe thead th {\n",
       "        text-align: right;\n",
       "    }\n",
       "</style>\n",
       "<table border=\"1\" class=\"dataframe\">\n",
       "  <thead>\n",
       "    <tr style=\"text-align: right;\">\n",
       "      <th></th>\n",
       "      <th>count</th>\n",
       "      <th>dtypes</th>\n",
       "      <th>null_sum</th>\n",
       "      <th>null_pct</th>\n",
       "      <th>mean</th>\n",
       "      <th>median</th>\n",
       "      <th>min</th>\n",
       "      <th>max</th>\n",
       "    </tr>\n",
       "  </thead>\n",
       "  <tbody>\n",
       "    <tr>\n",
       "      <td>age</td>\n",
       "      <td>10000</td>\n",
       "      <td>int64</td>\n",
       "      <td>0</td>\n",
       "      <td>0.0000</td>\n",
       "      <td>37.991800</td>\n",
       "      <td>38.000000</td>\n",
       "      <td>16</td>\n",
       "      <td>60</td>\n",
       "    </tr>\n",
       "    <tr>\n",
       "      <td>cost_of_ad</td>\n",
       "      <td>10000</td>\n",
       "      <td>float64</td>\n",
       "      <td>0</td>\n",
       "      <td>0.0000</td>\n",
       "      <td>0.004666</td>\n",
       "      <td>0.004625</td>\n",
       "      <td>0.00317057</td>\n",
       "      <td>0.00708156</td>\n",
       "    </tr>\n",
       "    <tr>\n",
       "      <td>device_type</td>\n",
       "      <td>10000</td>\n",
       "      <td>object</td>\n",
       "      <td>0</td>\n",
       "      <td>0.0000</td>\n",
       "      <td>NaN</td>\n",
       "      <td>NaN</td>\n",
       "      <td>Android</td>\n",
       "      <td>other</td>\n",
       "    </tr>\n",
       "    <tr>\n",
       "      <td>gender</td>\n",
       "      <td>9731</td>\n",
       "      <td>object</td>\n",
       "      <td>269</td>\n",
       "      <td>0.0269</td>\n",
       "      <td>NaN</td>\n",
       "      <td>NaN</td>\n",
       "      <td>NaN</td>\n",
       "      <td>NaN</td>\n",
       "    </tr>\n",
       "    <tr>\n",
       "      <td>in_initial_launch_location</td>\n",
       "      <td>10000</td>\n",
       "      <td>int64</td>\n",
       "      <td>0</td>\n",
       "      <td>0.0000</td>\n",
       "      <td>0.497500</td>\n",
       "      <td>0.000000</td>\n",
       "      <td>0</td>\n",
       "      <td>1</td>\n",
       "    </tr>\n",
       "    <tr>\n",
       "      <td>income</td>\n",
       "      <td>10000</td>\n",
       "      <td>int64</td>\n",
       "      <td>0</td>\n",
       "      <td>0.0000</td>\n",
       "      <td>58004.335800</td>\n",
       "      <td>58053.500000</td>\n",
       "      <td>16241</td>\n",
       "      <td>99956</td>\n",
       "    </tr>\n",
       "    <tr>\n",
       "      <td>n_drivers</td>\n",
       "      <td>10000</td>\n",
       "      <td>int64</td>\n",
       "      <td>0</td>\n",
       "      <td>0.0000</td>\n",
       "      <td>1.497000</td>\n",
       "      <td>1.000000</td>\n",
       "      <td>1</td>\n",
       "      <td>2</td>\n",
       "    </tr>\n",
       "    <tr>\n",
       "      <td>n_vehicles</td>\n",
       "      <td>10000</td>\n",
       "      <td>int64</td>\n",
       "      <td>0</td>\n",
       "      <td>0.0000</td>\n",
       "      <td>2.002200</td>\n",
       "      <td>2.000000</td>\n",
       "      <td>1</td>\n",
       "      <td>3</td>\n",
       "    </tr>\n",
       "    <tr>\n",
       "      <td>outcome</td>\n",
       "      <td>10000</td>\n",
       "      <td>int64</td>\n",
       "      <td>0</td>\n",
       "      <td>0.0000</td>\n",
       "      <td>0.098200</td>\n",
       "      <td>0.000000</td>\n",
       "      <td>0</td>\n",
       "      <td>1</td>\n",
       "    </tr>\n",
       "    <tr>\n",
       "      <td>prior_ins_tenure</td>\n",
       "      <td>10000</td>\n",
       "      <td>int64</td>\n",
       "      <td>0</td>\n",
       "      <td>0.0000</td>\n",
       "      <td>5.406800</td>\n",
       "      <td>4.000000</td>\n",
       "      <td>0</td>\n",
       "      <td>22</td>\n",
       "    </tr>\n",
       "  </tbody>\n",
       "</table>\n",
       "</div>"
      ],
      "text/plain": [
       "                            count   dtypes  null_sum  null_pct          mean  \\\n",
       "age                         10000    int64         0    0.0000     37.991800   \n",
       "cost_of_ad                  10000  float64         0    0.0000      0.004666   \n",
       "device_type                 10000   object         0    0.0000           NaN   \n",
       "gender                       9731   object       269    0.0269           NaN   \n",
       "in_initial_launch_location  10000    int64         0    0.0000      0.497500   \n",
       "income                      10000    int64         0    0.0000  58004.335800   \n",
       "n_drivers                   10000    int64         0    0.0000      1.497000   \n",
       "n_vehicles                  10000    int64         0    0.0000      2.002200   \n",
       "outcome                     10000    int64         0    0.0000      0.098200   \n",
       "prior_ins_tenure            10000    int64         0    0.0000      5.406800   \n",
       "\n",
       "                                  median         min         max  \n",
       "age                            38.000000          16          60  \n",
       "cost_of_ad                      0.004625  0.00317057  0.00708156  \n",
       "device_type                          NaN     Android       other  \n",
       "gender                               NaN         NaN         NaN  \n",
       "in_initial_launch_location      0.000000           0           1  \n",
       "income                      58053.500000       16241       99956  \n",
       "n_drivers                       1.000000           1           2  \n",
       "n_vehicles                      2.000000           1           3  \n",
       "outcome                         0.000000           0           1  \n",
       "prior_ins_tenure                4.000000           0          22  "
      ]
     },
     "execution_count": 6,
     "metadata": {},
     "output_type": "execute_result"
    }
   ],
   "source": [
    "summary(data)"
   ]
  },
  {
   "cell_type": "code",
   "execution_count": 7,
   "metadata": {},
   "outputs": [],
   "source": [
    "def numeric_hists(df):\n",
    "    '''quick histograms for numeric features'''\n",
    "    \n",
    "    import pandas as pd  \n",
    "    import matplotlib.pyplot as plt\n",
    "    \n",
    "    for col in df.columns:\n",
    "        if df[col].dtype in ['int64', 'float64']:\n",
    "            print(f'{col}:')\n",
    "            plt.hist(df[col])\n",
    "            plt.show()"
   ]
  },
  {
   "cell_type": "code",
   "execution_count": 8,
   "metadata": {},
   "outputs": [
    {
     "name": "stdout",
     "output_type": "stream",
     "text": [
      "age:\n"
     ]
    },
    {
     "data": {
      "image/png": "[encoded data removed]",
      "text/plain": [
       "<Figure size 432x288 with 1 Axes>"
      ]
     },
     "metadata": {
      "needs_background": "light"
     },
     "output_type": "display_data"
    },
    {
     "name": "stdout",
     "output_type": "stream",
     "text": [
      "cost_of_ad:\n"
     ]
    },
    {
     "data": {
      "image/png": "[encoded data removed]",
      "text/plain": [
       "<Figure size 432x288 with 1 Axes>"
      ]
     },
     "metadata": {
      "needs_background": "light"
     },
     "output_type": "display_data"
    },
    {
     "name": "stdout",
     "output_type": "stream",
     "text": [
      "in_initial_launch_location:\n"
     ]
    },
    {
     "data": {
      "image/png": "[encoded data removed]",
      "text/plain": [
       "<Figure size 432x288 with 1 Axes>"
      ]
     },
     "metadata": {
      "needs_background": "light"
     },
     "output_type": "display_data"
    },
    {
     "name": "stdout",
     "output_type": "stream",
     "text": [
      "income:\n"
     ]
    },
    {
     "data": {
      "image/png": "[encoded data removed]",
      "text/plain": [
       "<Figure size 432x288 with 1 Axes>"
      ]
     },
     "metadata": {
      "needs_background": "light"
     },
     "output_type": "display_data"
    },
    {
     "name": "stdout",
     "output_type": "stream",
     "text": [
      "n_drivers:\n"
     ]
    },
    {
     "data": {
      "image/png": "[encoded data removed]",
      "text/plain": [
       "<Figure size 432x288 with 1 Axes>"
      ]
     },
     "metadata": {
      "needs_background": "light"
     },
     "output_type": "display_data"
    },
    {
     "name": "stdout",
     "output_type": "stream",
     "text": [
      "n_vehicles:\n"
     ]
    },
    {
     "data": {
      "image/png": "[encoded data removed]",
      "text/plain": [
       "<Figure size 432x288 with 1 Axes>"
      ]
     },
     "metadata": {
      "needs_background": "light"
     },
     "output_type": "display_data"
    },
    {
     "name": "stdout",
     "output_type": "stream",
     "text": [
      "prior_ins_tenure:\n"
     ]
    },
    {
     "data": {
      "image/png": "[encoded data removed]",
      "text/plain": [
       "<Figure size 432x288 with 1 Axes>"
      ]
     },
     "metadata": {
      "needs_background": "light"
     },
     "output_type": "display_data"
    },
    {
     "name": "stdout",
     "output_type": "stream",
     "text": [
      "outcome:\n"
     ]
    },
    {
     "data": {
      "image/png": "[encoded data removed]",
      "text/plain": [
       "<Figure size 432x288 with 1 Axes>"
      ]
     },
     "metadata": {
      "needs_background": "light"
     },
     "output_type": "display_data"
    }
   ],
   "source": [
    "numeric_hists(data)"
   ]
  },
  {
   "cell_type": "code",
   "execution_count": 9,
   "metadata": {},
   "outputs": [
    {
     "data": {
      "text/html": [
       "<div>\n",
       "<style scoped>\n",
       "    .dataframe tbody tr th:only-of-type {\n",
       "        vertical-align: middle;\n",
       "    }\n",
       "\n",
       "    .dataframe tbody tr th {\n",
       "        vertical-align: top;\n",
       "    }\n",
       "\n",
       "    .dataframe thead th {\n",
       "        text-align: right;\n",
       "    }\n",
       "</style>\n",
       "<table border=\"1\" class=\"dataframe\">\n",
       "  <thead>\n",
       "    <tr style=\"text-align: right;\">\n",
       "      <th></th>\n",
       "      <th>age</th>\n",
       "      <th>cost_of_ad</th>\n",
       "      <th>in_initial_launch_location</th>\n",
       "      <th>income</th>\n",
       "      <th>n_drivers</th>\n",
       "      <th>n_vehicles</th>\n",
       "      <th>prior_ins_tenure</th>\n",
       "      <th>outcome</th>\n",
       "    </tr>\n",
       "  </thead>\n",
       "  <tbody>\n",
       "    <tr>\n",
       "      <td>age</td>\n",
       "      <td>1.000000</td>\n",
       "      <td>0.141522</td>\n",
       "      <td>-0.005112</td>\n",
       "      <td>0.747286</td>\n",
       "      <td>-0.005097</td>\n",
       "      <td>0.011210</td>\n",
       "      <td>0.644734</td>\n",
       "      <td>-0.011907</td>\n",
       "    </tr>\n",
       "    <tr>\n",
       "      <td>cost_of_ad</td>\n",
       "      <td>0.141522</td>\n",
       "      <td>1.000000</td>\n",
       "      <td>-0.000183</td>\n",
       "      <td>0.104408</td>\n",
       "      <td>-0.004596</td>\n",
       "      <td>-0.004071</td>\n",
       "      <td>0.086847</td>\n",
       "      <td>-0.077210</td>\n",
       "    </tr>\n",
       "    <tr>\n",
       "      <td>in_initial_launch_location</td>\n",
       "      <td>-0.005112</td>\n",
       "      <td>-0.000183</td>\n",
       "      <td>1.000000</td>\n",
       "      <td>0.003423</td>\n",
       "      <td>-0.001030</td>\n",
       "      <td>0.010530</td>\n",
       "      <td>0.008093</td>\n",
       "      <td>0.116577</td>\n",
       "    </tr>\n",
       "    <tr>\n",
       "      <td>income</td>\n",
       "      <td>0.747286</td>\n",
       "      <td>0.104408</td>\n",
       "      <td>0.003423</td>\n",
       "      <td>1.000000</td>\n",
       "      <td>-0.005122</td>\n",
       "      <td>0.005697</td>\n",
       "      <td>0.486532</td>\n",
       "      <td>0.006375</td>\n",
       "    </tr>\n",
       "    <tr>\n",
       "      <td>n_drivers</td>\n",
       "      <td>-0.005097</td>\n",
       "      <td>-0.004596</td>\n",
       "      <td>-0.001030</td>\n",
       "      <td>-0.005122</td>\n",
       "      <td>1.000000</td>\n",
       "      <td>0.006619</td>\n",
       "      <td>-0.003123</td>\n",
       "      <td>0.100105</td>\n",
       "    </tr>\n",
       "    <tr>\n",
       "      <td>n_vehicles</td>\n",
       "      <td>0.011210</td>\n",
       "      <td>-0.004071</td>\n",
       "      <td>0.010530</td>\n",
       "      <td>0.005697</td>\n",
       "      <td>0.006619</td>\n",
       "      <td>1.000000</td>\n",
       "      <td>0.004266</td>\n",
       "      <td>-0.193192</td>\n",
       "    </tr>\n",
       "    <tr>\n",
       "      <td>prior_ins_tenure</td>\n",
       "      <td>0.644734</td>\n",
       "      <td>0.086847</td>\n",
       "      <td>0.008093</td>\n",
       "      <td>0.486532</td>\n",
       "      <td>-0.003123</td>\n",
       "      <td>0.004266</td>\n",
       "      <td>1.000000</td>\n",
       "      <td>-0.029934</td>\n",
       "    </tr>\n",
       "    <tr>\n",
       "      <td>outcome</td>\n",
       "      <td>-0.011907</td>\n",
       "      <td>-0.077210</td>\n",
       "      <td>0.116577</td>\n",
       "      <td>0.006375</td>\n",
       "      <td>0.100105</td>\n",
       "      <td>-0.193192</td>\n",
       "      <td>-0.029934</td>\n",
       "      <td>1.000000</td>\n",
       "    </tr>\n",
       "  </tbody>\n",
       "</table>\n",
       "</div>"
      ],
      "text/plain": [
       "                                 age  cost_of_ad  in_initial_launch_location  \\\n",
       "age                         1.000000    0.141522                   -0.005112   \n",
       "cost_of_ad                  0.141522    1.000000                   -0.000183   \n",
       "in_initial_launch_location -0.005112   -0.000183                    1.000000   \n",
       "income                      0.747286    0.104408                    0.003423   \n",
       "n_drivers                  -0.005097   -0.004596                   -0.001030   \n",
       "n_vehicles                  0.011210   -0.004071                    0.010530   \n",
       "prior_ins_tenure            0.644734    0.086847                    0.008093   \n",
       "outcome                    -0.011907   -0.077210                    0.116577   \n",
       "\n",
       "                              income  n_drivers  n_vehicles  prior_ins_tenure  \\\n",
       "age                         0.747286  -0.005097    0.011210          0.644734   \n",
       "cost_of_ad                  0.104408  -0.004596   -0.004071          0.086847   \n",
       "in_initial_launch_location  0.003423  -0.001030    0.010530          0.008093   \n",
       "income                      1.000000  -0.005122    0.005697          0.486532   \n",
       "n_drivers                  -0.005122   1.000000    0.006619         -0.003123   \n",
       "n_vehicles                  0.005697   0.006619    1.000000          0.004266   \n",
       "prior_ins_tenure            0.486532  -0.003123    0.004266          1.000000   \n",
       "outcome                     0.006375   0.100105   -0.193192         -0.029934   \n",
       "\n",
       "                             outcome  \n",
       "age                        -0.011907  \n",
       "cost_of_ad                 -0.077210  \n",
       "in_initial_launch_location  0.116577  \n",
       "income                      0.006375  \n",
       "n_drivers                   0.100105  \n",
       "n_vehicles                 -0.193192  \n",
       "prior_ins_tenure           -0.029934  \n",
       "outcome                     1.000000  "
      ]
     },
     "execution_count": 9,
     "metadata": {},
     "output_type": "execute_result"
    }
   ],
   "source": [
    "data.corr()"
   ]
  },
  {
   "cell_type": "code",
   "execution_count": 10,
   "metadata": {},
   "outputs": [
    {
     "name": "stdout",
     "output_type": "stream",
     "text": [
      "('age', 'income', 0.7472864357955471)\n",
      "('age', 'prior_ins_tenure', 0.6447341586065465)\n",
      "('income', 'prior_ins_tenure', 0.48653245183601684)\n"
     ]
    }
   ],
   "source": [
    "for idx, i in enumerate(data.columns):\n",
    "    if data[i].dtype in ['int64', 'float64']:\n",
    "        for j in data.columns[idx+1:]:\n",
    "            if data[j].dtype in ['int64', 'float64']:\n",
    "                r = data[[i, j]].corr().values[0][1]\n",
    "                if abs(r) > 0.2:\n",
    "                    print((i, j, r))"
   ]
  },
  {
   "cell_type": "code",
   "execution_count": 11,
   "metadata": {},
   "outputs": [
    {
     "data": {
      "text/plain": [
       "(0.03, 0.1)"
      ]
     },
     "execution_count": 11,
     "metadata": {},
     "output_type": "execute_result"
    }
   ],
   "source": [
    "# missing gender has ~1/3 frequency of positive outcomes as overall data\n",
    "\n",
    "round(data[data['gender'].isna()]['outcome'].mean(), 2), round(data['outcome'].mean(), 2)"
   ]
  },
  {
   "cell_type": "markdown",
   "metadata": {},
   "source": [
    "---\n",
    "\n",
    "# Transformations"
   ]
  },
  {
   "cell_type": "code",
   "execution_count": 12,
   "metadata": {},
   "outputs": [],
   "source": [
    "# z_scores\n",
    "\n",
    "def z_score(col):\n",
    "    mu = col.mean()\n",
    "    sig = col.std()\n",
    "    return [(i-mu)/sig for i in col]\n",
    "\n",
    "for col in ['cost_of_ad', 'income']:\n",
    "    data[col] = z_score(data[col])"
   ]
  },
  {
   "cell_type": "code",
   "execution_count": 13,
   "metadata": {},
   "outputs": [
    {
     "data": {
      "text/html": [
       "<div>\n",
       "<style scoped>\n",
       "    .dataframe tbody tr th:only-of-type {\n",
       "        vertical-align: middle;\n",
       "    }\n",
       "\n",
       "    .dataframe tbody tr th {\n",
       "        vertical-align: top;\n",
       "    }\n",
       "\n",
       "    .dataframe thead th {\n",
       "        text-align: right;\n",
       "    }\n",
       "</style>\n",
       "<table border=\"1\" class=\"dataframe\">\n",
       "  <thead>\n",
       "    <tr style=\"text-align: right;\">\n",
       "      <th></th>\n",
       "      <th>age</th>\n",
       "      <th>cost_of_ad</th>\n",
       "      <th>in_initial_launch_location</th>\n",
       "      <th>income</th>\n",
       "      <th>n_drivers</th>\n",
       "      <th>n_vehicles</th>\n",
       "      <th>prior_ins_tenure</th>\n",
       "      <th>outcome</th>\n",
       "      <th>device_desktop</th>\n",
       "      <th>device_iPhone</th>\n",
       "      <th>device_laptop</th>\n",
       "      <th>device_other</th>\n",
       "      <th>F</th>\n",
       "      <th>M</th>\n",
       "    </tr>\n",
       "  </thead>\n",
       "  <tbody>\n",
       "    <tr>\n",
       "      <td>0</td>\n",
       "      <td>56</td>\n",
       "      <td>1.277293</td>\n",
       "      <td>0</td>\n",
       "      <td>0.271925</td>\n",
       "      <td>2</td>\n",
       "      <td>1</td>\n",
       "      <td>4</td>\n",
       "      <td>0</td>\n",
       "      <td>0</td>\n",
       "      <td>1</td>\n",
       "      <td>0</td>\n",
       "      <td>0</td>\n",
       "      <td>0</td>\n",
       "      <td>1</td>\n",
       "    </tr>\n",
       "    <tr>\n",
       "      <td>1</td>\n",
       "      <td>50</td>\n",
       "      <td>0.079356</td>\n",
       "      <td>0</td>\n",
       "      <td>0.364881</td>\n",
       "      <td>2</td>\n",
       "      <td>3</td>\n",
       "      <td>2</td>\n",
       "      <td>0</td>\n",
       "      <td>1</td>\n",
       "      <td>0</td>\n",
       "      <td>0</td>\n",
       "      <td>0</td>\n",
       "      <td>1</td>\n",
       "      <td>0</td>\n",
       "    </tr>\n",
       "    <tr>\n",
       "      <td>2</td>\n",
       "      <td>54</td>\n",
       "      <td>-0.640566</td>\n",
       "      <td>0</td>\n",
       "      <td>1.467601</td>\n",
       "      <td>1</td>\n",
       "      <td>3</td>\n",
       "      <td>7</td>\n",
       "      <td>0</td>\n",
       "      <td>0</td>\n",
       "      <td>0</td>\n",
       "      <td>1</td>\n",
       "      <td>0</td>\n",
       "      <td>0</td>\n",
       "      <td>1</td>\n",
       "    </tr>\n",
       "    <tr>\n",
       "      <td>3</td>\n",
       "      <td>16</td>\n",
       "      <td>0.538172</td>\n",
       "      <td>0</td>\n",
       "      <td>-1.609526</td>\n",
       "      <td>2</td>\n",
       "      <td>3</td>\n",
       "      <td>0</td>\n",
       "      <td>0</td>\n",
       "      <td>0</td>\n",
       "      <td>0</td>\n",
       "      <td>0</td>\n",
       "      <td>0</td>\n",
       "      <td>1</td>\n",
       "      <td>0</td>\n",
       "    </tr>\n",
       "    <tr>\n",
       "      <td>4</td>\n",
       "      <td>37</td>\n",
       "      <td>-1.230856</td>\n",
       "      <td>0</td>\n",
       "      <td>1.070965</td>\n",
       "      <td>2</td>\n",
       "      <td>1</td>\n",
       "      <td>5</td>\n",
       "      <td>0</td>\n",
       "      <td>1</td>\n",
       "      <td>0</td>\n",
       "      <td>0</td>\n",
       "      <td>0</td>\n",
       "      <td>0</td>\n",
       "      <td>1</td>\n",
       "    </tr>\n",
       "  </tbody>\n",
       "</table>\n",
       "</div>"
      ],
      "text/plain": [
       "   age  cost_of_ad  in_initial_launch_location    income  n_drivers  \\\n",
       "0   56    1.277293                           0  0.271925          2   \n",
       "1   50    0.079356                           0  0.364881          2   \n",
       "2   54   -0.640566                           0  1.467601          1   \n",
       "3   16    0.538172                           0 -1.609526          2   \n",
       "4   37   -1.230856                           0  1.070965          2   \n",
       "\n",
       "   n_vehicles  prior_ins_tenure  outcome  device_desktop  device_iPhone  \\\n",
       "0           1                 4        0               0              1   \n",
       "1           3                 2        0               1              0   \n",
       "2           3                 7        0               0              0   \n",
       "3           3                 0        0               0              0   \n",
       "4           1                 5        0               1              0   \n",
       "\n",
       "   device_laptop  device_other  F  M  \n",
       "0              0             0  0  1  \n",
       "1              0             0  1  0  \n",
       "2              1             0  0  1  \n",
       "3              0             0  1  0  \n",
       "4              0             0  0  1  "
      ]
     },
     "execution_count": 13,
     "metadata": {},
     "output_type": "execute_result"
    }
   ],
   "source": [
    "# dummies\n",
    "\n",
    "device = pd.get_dummies(data['device_type'], drop_first=True)\n",
    "device.columns = [f'device_{i}' for i in device.columns]\n",
    "\n",
    "gender = pd.get_dummies(data['gender'], drop_first=False)\n",
    "\n",
    "data = data.drop(labels=['gender', 'device_type'], axis=1)\n",
    "data = pd.concat([data, device, gender], axis=1)\n",
    "data.head()"
   ]
  },
  {
   "cell_type": "code",
   "execution_count": 14,
   "metadata": {},
   "outputs": [
    {
     "data": {
      "image/png": "[encoded data removed]",
      "text/plain": [
       "<Figure size 720x720 with 1 Axes>"
      ]
     },
     "metadata": {
      "needs_background": "light"
     },
     "output_type": "display_data"
    }
   ],
   "source": [
    "# feature correlations with outcome\n",
    "\n",
    "correlations = []\n",
    "\n",
    "for col in data.columns:\n",
    "    if col == 'outcome':\n",
    "        pass\n",
    "    else:\n",
    "        if data[col].dtype in ['int64', 'float64', 'uint8']:\n",
    "            correlations.append((col, np.corrcoef(data[col], data['outcome'])[0][1])) # extract r\n",
    "        else:\n",
    "            dummies = pd.get_dummies(data[col])\n",
    "            for col in dummies.columns:\n",
    "                correlations.append((col, np.corrcoef(dummies[col], data['outcome'])[0][1]))\n",
    "    \n",
    "correlations = sorted(correlations, key = lambda x: x[1])\n",
    "\n",
    "plt.figure(figsize=(10, 10))\n",
    "plt.barh([i[0] for i in correlations],\n",
    "         [i[1] for i in correlations])\n",
    "plt.title('Feature Correlations with Outcome', fontsize=18);"
   ]
  },
  {
   "cell_type": "code",
   "execution_count": 15,
   "metadata": {},
   "outputs": [
    {
     "data": {
      "image/png": "[encoded data removed]",
      "text/plain": [
       "<Figure size 720x720 with 1 Axes>"
      ]
     },
     "metadata": {
      "needs_background": "light"
     },
     "output_type": "display_data"
    }
   ],
   "source": [
    "rfc = RandomForestClassifier(random_state=42)\n",
    "\n",
    "X_train = data.drop(labels=['outcome'], axis=1)\n",
    "y_train = data['outcome']\n",
    "\n",
    "rfc = rfc.fit(X_train, y_train)\n",
    "\n",
    "feats = sorted(zip(rfc.feature_importances_, X_train.columns), key=lambda x: x[0])\n",
    "\n",
    "plt.figure(figsize=(10, 10))\n",
    "plt.barh([i[1] for i in feats],\n",
    "         [i[0] for i in feats])\n",
    "plt.title('Feature Importances via Random Forest', fontsize=18);"
   ]
  },
  {
   "cell_type": "markdown",
   "metadata": {},
   "source": [
    "---\n",
    "\n",
    "# Modeling"
   ]
  },
  {
   "cell_type": "code",
   "execution_count": 16,
   "metadata": {},
   "outputs": [],
   "source": [
    "def run_kfold(X_train, y_train, model, kfold):\n",
    "    idx = 1\n",
    "    in_ = []\n",
    "    out_ = []\n",
    "    for train_index, test_index in kfold.split(X_train, y_train):\n",
    "        try:\n",
    "            model.fit(X_train.iloc[train_index], y_train.iloc[train_index])\n",
    "        except:\n",
    "            y_train = pd.Series(y_train)\n",
    "            model.fit(X_train.iloc[train_index], y_train.iloc[train_index])\n",
    "        train_fp = model.predict(X_train.iloc[train_index])\n",
    "        test_fp = model.predict(X_train.iloc[test_index])\n",
    "        in_.append(metrics.roc_auc_score(y_train.iloc[train_index], train_fp))\n",
    "        out_.append(metrics.roc_auc_score(y_train.iloc[test_index], test_fp))\n",
    "        idx += 1\n",
    "    return np.mean(in_), np.mean(out_)\n",
    "\n",
    "skf = StratifiedKFold(n_splits=10, shuffle=True, random_state=42)"
   ]
  },
  {
   "cell_type": "code",
   "execution_count": 17,
   "metadata": {},
   "outputs": [
    {
     "name": "stdout",
     "output_type": "stream",
     "text": [
      "Average in auc:  0.9268453521764481\n",
      "Average oos auc:  0.7424621492044641\n"
     ]
    }
   ],
   "source": [
    "# default lgbm\n",
    "\n",
    "lgb = lightgbm.LGBMClassifier(random_state=42,\n",
    "                              is_unbalance=True)\n",
    "\n",
    "in_, out_ = run_kfold(X_train, y_train, model=lgb, kfold=skf)\n",
    "print(f'Average in auc:  {in_}')\n",
    "print(f'Average oos auc:  {out_}')"
   ]
  },
  {
   "cell_type": "code",
   "execution_count": 18,
   "metadata": {},
   "outputs": [
    {
     "name": "stdout",
     "output_type": "stream",
     "text": [
      "Average in auc:  0.8098501444330222\n",
      "Average oos auc:  0.7636953916961224\n"
     ]
    }
   ],
   "source": [
    "# some manual tuning for faster, smaller trees\n",
    "\n",
    "lgb1 = lightgbm.LGBMClassifier(random_state=42,\n",
    "                              is_unbalance=True,\n",
    "                              learning_rate = 0.5,\n",
    "                              num_leaves = 2**3-1,\n",
    "                              num_trees = 50,\n",
    "                              min_data_in_leaf = 200,\n",
    "                              max_bin=2**3-1)\n",
    "\n",
    "in_, out_ = run_kfold(X_train, y_train, model=lgb1, kfold=skf)\n",
    "print(f'Average in auc:  {in_}')\n",
    "print(f'Average oos auc:  {out_}')"
   ]
  },
  {
   "cell_type": "code",
   "execution_count": 19,
   "metadata": {},
   "outputs": [
    {
     "name": "stdout",
     "output_type": "stream",
     "text": [
      "Average in auc:  0.780120472401631\n",
      "Average oos auc:  0.7643729753402707\n"
     ]
    }
   ],
   "source": [
    "# model for slower, smaller trees\n",
    "\n",
    "lgb2 = lightgbm.LGBMClassifier(random_state=42,\n",
    "                              is_unbalance=True,\n",
    "                              learning_rate = 0.1,\n",
    "                              num_leaves = 2**3-1,\n",
    "                              num_trees = 50,\n",
    "                              min_data_in_leaf = 10,\n",
    "                              max_bin=2**3-1)\n",
    "\n",
    "in_, out_ = run_kfold(X_train, y_train, model=lgb2, kfold=skf)\n",
    "print(f'Average in auc:  {in_}')\n",
    "print(f'Average oos auc:  {out_}')"
   ]
  },
  {
   "cell_type": "code",
   "execution_count": 20,
   "metadata": {},
   "outputs": [
    {
     "name": "stdout",
     "output_type": "stream",
     "text": [
      "Average in auc:  0.8169493667952074\n",
      "Average oos auc:  0.7635953421935509\n"
     ]
    }
   ],
   "source": [
    "# model for slower, bigger trees\n",
    "\n",
    "lgb3 = lightgbm.LGBMClassifier(random_state=42,\n",
    "                              is_unbalance=True,\n",
    "                              learning_rate = 0.005,\n",
    "                              num_leaves = 2**5-1,\n",
    "                              num_trees = 500,\n",
    "                              min_data_in_leaf = 100,\n",
    "                              max_bin=2**5-1)\n",
    "\n",
    "in_, out_ = run_kfold(X_train, y_train, model=lgb3, kfold=skf)\n",
    "print(f'Average in auc:  {in_}')\n",
    "print(f'Average oos auc:  {out_}')"
   ]
  },
  {
   "cell_type": "code",
   "execution_count": 21,
   "metadata": {},
   "outputs": [
    {
     "name": "stdout",
     "output_type": "stream",
     "text": [
      "Average in auc:  0.806352829704306\n",
      "Average oos auc:  0.7721049801337093\n"
     ]
    }
   ],
   "source": [
    "# ensembling\n",
    "\n",
    "in_all = []\n",
    "out_all = []\n",
    "\n",
    "for train_index, test_index in skf.split(X_train, y_train):\n",
    "    \n",
    "    in_ = []\n",
    "    out_ = []\n",
    "    for model in [lgb1, lgb2, lgb3]:\n",
    "        model.fit(X_train.iloc[train_index], y_train.iloc[train_index])\n",
    "        in_.append(model.predict_proba(X_train.iloc[train_index])[:,1])\n",
    "        out_.append(model.predict_proba(X_train.iloc[test_index])[:,1])\n",
    "    \n",
    "    in_pred = [1 if (i * in_[1][idx] * in_[2][idx])**(1/3) > 0.5\n",
    "               else 0 for idx, i in enumerate(in_[0])]\n",
    "    out_pred = [1 if (i * out_[1][idx] * out_[2][idx])**(1/3) > 0.5\n",
    "                else 0 for idx, i in enumerate(out_[0])]\n",
    "\n",
    "    in_all.append(metrics.roc_auc_score(y_train.iloc[train_index], in_pred))\n",
    "    out_all.append(metrics.roc_auc_score(y_train.iloc[test_index], out_pred))\n",
    "    \n",
    "print(f'Average in auc:  {np.mean(in_all)}')\n",
    "print(f'Average oos auc:  {np.mean(out_all)}')"
   ]
  },
  {
   "cell_type": "code",
   "execution_count": null,
   "metadata": {},
   "outputs": [],
   "source": []
  }
 ],
 "metadata": {
  "kernelspec": {
   "display_name": "Python 3",
   "language": "python",
   "name": "python3"
  },
  "language_info": {
   "codemirror_mode": {
    "name": "ipython",
    "version": 3
   },
   "file_extension": ".py",
   "mimetype": "text/x-python",
   "name": "python",
   "nbconvert_exporter": "python",
   "pygments_lexer": "ipython3",
   "version": "3.7.3"
  }
 },
 "nbformat": 4,
 "nbformat_minor": 4
}
